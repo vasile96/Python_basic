{
 "cells": [
  {
   "cell_type": "code",
   "execution_count": 1,
   "id": "27aff7f7-99c7-48b5-9611-7160f2f078f0",
   "metadata": {},
   "outputs": [
    {
     "name": "stdout",
     "output_type": "stream",
     "text": [
      "H\n",
      "e\n",
      "l\n",
      "l\n",
      "o\n"
     ]
    }
   ],
   "source": [
    "for letter in ['H', 'e', 'l', 'l', 'o',]:\n",
    "    print(letter)"
   ]
  },
  {
   "cell_type": "code",
   "execution_count": 2,
   "id": "256a1b01-d7e2-40a4-b394-5f3108c28300",
   "metadata": {},
   "outputs": [
    {
     "name": "stdout",
     "output_type": "stream",
     "text": [
      "H\n",
      "e\n",
      "l\n",
      "l\n",
      "o\n"
     ]
    }
   ],
   "source": [
    "for letter in \"Hello\":\n",
    "    print(letter)\n",
    "    "
   ]
  },
  {
   "cell_type": "code",
   "execution_count": 3,
   "id": "64c8852d-5276-48a5-92ad-1a065683d9a4",
   "metadata": {},
   "outputs": [
    {
     "name": "stdout",
     "output_type": "stream",
     "text": [
      "H\n",
      "e\n",
      "l\n",
      "l\n",
      "o\n",
      " \n",
      "w\n",
      "o\n",
      "r\n",
      "l\n",
      "d\n"
     ]
    }
   ],
   "source": [
    "my_string = \"Hello world\"\n",
    "for char in my_string:\n",
    "    print(char)"
   ]
  },
  {
   "cell_type": "code",
   "execution_count": 4,
   "id": "d96f4402-4c94-40d1-86e5-7c3a1da8c49f",
   "metadata": {},
   "outputs": [
    {
     "name": "stdout",
     "output_type": "stream",
     "text": [
      "1\n",
      "0\n"
     ]
    }
   ],
   "source": [
    "for digit in \"10\":\n",
    "    print (digit)"
   ]
  },
  {
   "cell_type": "code",
   "execution_count": 5,
   "id": "eddd2e9d-1ca7-4a44-9d5d-3ec4d207e01e",
   "metadata": {},
   "outputs": [
    {
     "name": "stdout",
     "output_type": "stream",
     "text": [
      "Germany\n",
      "India\n",
      "Israel\n"
     ]
    }
   ],
   "source": [
    "for country in \"Germany\", \"India\", \"Israel\":\n",
    "    print (country)\n",
    "    "
   ]
  },
  {
   "cell_type": "code",
   "execution_count": 6,
   "id": "bea79967-4596-481d-826a-64fd3628dd63",
   "metadata": {},
   "outputs": [],
   "source": [
    "dogs = (\"pug\", \"doberman\", \"labrador\")"
   ]
  },
  {
   "cell_type": "code",
   "execution_count": 7,
   "id": "b216e6b9-ceab-4962-ab5e-ef5bb0ecdd3f",
   "metadata": {},
   "outputs": [
    {
     "name": "stdout",
     "output_type": "stream",
     "text": [
      "It's a pug\n",
      "It's a doberman\n",
      "It's a labrador\n"
     ]
    }
   ],
   "source": [
    "for dog in dogs:\n",
    "    print(\"It's a\", dog)"
   ]
  },
  {
   "cell_type": "code",
   "execution_count": 8,
   "id": "8ddaec51-17cd-4ec1-9c4b-8b23095f1024",
   "metadata": {},
   "outputs": [
    {
     "name": "stdout",
     "output_type": "stream",
     "text": [
      "The dog at index 0 is a pug and it weighs 20 pounds\n",
      "The dog at index 1 is a doberman and it weighs 50 pounds\n",
      "The dog at index 2 is a labrador and it weighs 55 pounds\n"
     ]
    }
   ],
   "source": [
    "dog_weight = ((\"pug\", 20),\n",
    "              (\"doberman\", 50),\n",
    "              (\"labrador\", 55))\n",
    "for i, (dog, weight) in enumerate(dog_weight):\n",
    "    print(\"The dog at index %d is a %s and it weighs %s pounds\" % (i, dog, weight))"
   ]
  },
  {
   "cell_type": "code",
   "execution_count": 9,
   "id": "bb7c7c8e-2ac2-4cda-90fe-7c4cf8403854",
   "metadata": {},
   "outputs": [
    {
     "name": "stdout",
     "output_type": "stream",
     "text": [
      "Happy New Year, John\n",
      "Happy New Year, Sam\n",
      "Happy New Year, Jill\n"
     ]
    }
   ],
   "source": [
    "friends = [\"John\", \"Sam\", \"Jill\"]\n",
    "\n",
    "for friend in friends:\n",
    "    print(\"Happy New Year,\", friend)"
   ]
  },
  {
   "cell_type": "code",
   "execution_count": 10,
   "id": "d1610275-f909-4c0a-93c0-0262f06ea02d",
   "metadata": {},
   "outputs": [
    {
     "data": {
      "text/plain": [
       "{'John': 80, 'Sam': 60, 'Jill': 50, 'Bob': 96}"
      ]
     },
     "execution_count": 10,
     "metadata": {},
     "output_type": "execute_result"
    }
   ],
   "source": [
    "student_scores = {'John': 80,\n",
    "                  'Sam': 60,\n",
    "                  'Jill': 50,\n",
    "                  'Bob': 96}\n",
    "student_scores"
   ]
  },
  {
   "cell_type": "code",
   "execution_count": 11,
   "id": "a5574861-2711-4dfc-b817-9bc60bac29c7",
   "metadata": {},
   "outputs": [
    {
     "name": "stdout",
     "output_type": "stream",
     "text": [
      "John\n",
      "Sam\n",
      "Jill\n",
      "Bob\n"
     ]
    }
   ],
   "source": [
    "for student in student_scores:\n",
    "    print(student)"
   ]
  },
  {
   "cell_type": "code",
   "execution_count": 12,
   "id": "77afed56-1487-4463-a714-c09939eae4d2",
   "metadata": {},
   "outputs": [
    {
     "data": {
      "text/plain": [
       "dict_keys(['John', 'Sam', 'Jill', 'Bob'])"
      ]
     },
     "execution_count": 12,
     "metadata": {},
     "output_type": "execute_result"
    }
   ],
   "source": [
    "student_scores.keys()"
   ]
  },
  {
   "cell_type": "code",
   "execution_count": 13,
   "id": "80bbbf6a-c363-48db-b21d-8efbacb27095",
   "metadata": {},
   "outputs": [
    {
     "name": "stdout",
     "output_type": "stream",
     "text": [
      "80\n",
      "60\n",
      "50\n",
      "96\n"
     ]
    }
   ],
   "source": [
    "for score in student_scores.values():\n",
    "    print(score)"
   ]
  },
  {
   "cell_type": "code",
   "execution_count": 14,
   "id": "6014aa06-9d3f-4d69-a7d0-92da19cdb8bf",
   "metadata": {},
   "outputs": [
    {
     "name": "stdout",
     "output_type": "stream",
     "text": [
      "Key value pair - John : 80\n",
      "Key value pair - Sam : 60\n",
      "Key value pair - Jill : 50\n",
      "Key value pair - Bob : 96\n"
     ]
    }
   ],
   "source": [
    "for key in student_scores:\n",
    "    print(\"Key value pair -\", key, \":\", student_scores[key])"
   ]
  },
  {
   "cell_type": "code",
   "execution_count": 15,
   "id": "5ff28042-fd24-4e9a-ab89-9045bb0bda96",
   "metadata": {},
   "outputs": [
    {
     "name": "stdout",
     "output_type": "stream",
     "text": [
      "('John', 80)\n",
      "('Sam', 60)\n",
      "('Jill', 50)\n",
      "('Bob', 96)\n"
     ]
    }
   ],
   "source": [
    "for key_value in student_scores.items():\n",
    "    print(key_value)"
   ]
  },
  {
   "cell_type": "code",
   "execution_count": 16,
   "id": "99611fed-f8f1-4010-acc1-e079192a97a8",
   "metadata": {},
   "outputs": [
    {
     "name": "stdout",
     "output_type": "stream",
     "text": [
      "2 is the qoutient of 4 /2\n",
      "3 is the qoutient of 6 /2\n",
      "4 is the qoutient of 9 /2\n",
      "5 is the qoutient of 10 /2\n"
     ]
    }
   ],
   "source": [
    "numbers = [4, 6, 9, 10]\n",
    "\n",
    "for num in numbers:\n",
    "    qoutient = num // 2\n",
    "\n",
    "    print(qoutient, \"is the qoutient of\", num, \"/2\")"
   ]
  },
  {
   "cell_type": "code",
   "execution_count": 17,
   "id": "b7277bd6-b669-4c30-9f8e-094f77035d0b",
   "metadata": {},
   "outputs": [
    {
     "name": "stdout",
     "output_type": "stream",
     "text": [
      "Type of 145 is <class 'int'>\n",
      "Type of 10.5 is <class 'float'>\n",
      "Type of (1+3j) is <class 'complex'>\n",
      "Type of True is <class 'bool'>\n",
      "Type of Python is <class 'str'>\n",
      "Type of (0, 1) is <class 'tuple'>\n",
      "Type of [2, -5] is <class 'list'>\n",
      "Type of {'cllass': 'V', 'Section': 'A'} is <class 'dict'>\n"
     ]
    }
   ],
   "source": [
    "mixed_list = [145, 10.5, 1+3j,\n",
    "              True, \"Python\",\n",
    "              (0, 1),[2, -5],\n",
    "              {\"cllass\":\"V\", \"Section\":\"A\"}]\n",
    "\n",
    "for item in mixed_list:\n",
    "    print (\"Type of\", item, \"is\", type(item))"
   ]
  },
  {
   "cell_type": "code",
   "execution_count": 18,
   "id": "5da5fb3b-c932-4504-919f-135be341f21d",
   "metadata": {},
   "outputs": [
    {
     "name": "stdout",
     "output_type": "stream",
     "text": [
      "Square of 2 is 4\n",
      "Square of 4 is 16\n",
      "Square of 6 is 36\n",
      "Square of 8 is 64\n"
     ]
    }
   ],
   "source": [
    "num_list = [2, 4, 6, 8]\n",
    "\n",
    "square = 0\n",
    "\n",
    "for val in num_list:\n",
    "    square = val ** 2\n",
    "    print(\"Square of\", val, \"is\", square)"
   ]
  },
  {
   "cell_type": "code",
   "execution_count": 19,
   "id": "6bf62895-d3a2-4532-98ee-2da9ee94ec16",
   "metadata": {},
   "outputs": [
    {
     "name": "stdin",
     "output_type": "stream",
     "text": [
      "Enter a string:  ursu\n"
     ]
    },
    {
     "name": "stdout",
     "output_type": "stream",
     "text": [
      "4\n"
     ]
    }
   ],
   "source": [
    "string = input(\"Enter a string: \")\n",
    "\n",
    "count = 0\n",
    "\n",
    "for i in string:\n",
    "    count = count + 1\n",
    "\n",
    "print(count)"
   ]
  },
  {
   "cell_type": "code",
   "execution_count": 20,
   "id": "a81b9cd8-d0fa-4e22-bdbe-0293732423f4",
   "metadata": {},
   "outputs": [
    {
     "name": "stdout",
     "output_type": "stream",
     "text": [
      "2\n",
      "3\n",
      "5\n",
      "7\n",
      "No more items left in the list.\n"
     ]
    }
   ],
   "source": [
    "numbers = [2, 3, 5, 7]\n",
    "\n",
    "for num in numbers:\n",
    "    print(num)\n",
    "\n",
    "else:\n",
    "    print(\"No more items left in the list.\")"
   ]
  },
  {
   "cell_type": "code",
   "execution_count": 21,
   "id": "680586f2-f978-4ad6-803d-4c4020f59ec8",
   "metadata": {},
   "outputs": [
    {
     "name": "stdout",
     "output_type": "stream",
     "text": [
      "a\n",
      "c\n",
      "d\n",
      "b\n",
      "No more characters left \n"
     ]
    }
   ],
   "source": [
    "characters = {\"a\", \"b\", \"c\", \"d\"}\n",
    "\n",
    "for letter in characters:\n",
    "    print(letter)\n",
    "\n",
    "else:\n",
    "    print(\"No more characters left \")"
   ]
  },
  {
   "cell_type": "code",
   "execution_count": 22,
   "id": "fc0fbab3-310c-44da-ba9e-8a1a9aad07f8",
   "metadata": {},
   "outputs": [
    {
     "name": "stdin",
     "output_type": "stream",
     "text": [
      "Enter the number of rows: 4\n"
     ]
    },
    {
     "name": "stdout",
     "output_type": "stream",
     "text": [
      "\n",
      "* \n",
      "* * \n",
      "* * * \n"
     ]
    }
   ],
   "source": [
    "num = int(input(\"Enter the number of rows:\"))\n",
    "\n",
    "for i in range(num):\n",
    "    for x in range (i):\n",
    "        \n",
    "        print (\"*\", end = \" \") \n",
    "    print()"
   ]
  },
  {
   "cell_type": "code",
   "execution_count": 23,
   "id": "5bb93431-7121-44aa-909b-7cf0a713831d",
   "metadata": {},
   "outputs": [
    {
     "name": "stdin",
     "output_type": "stream",
     "text": [
      "Enter the number of rows: 4\n"
     ]
    },
    {
     "name": "stdout",
     "output_type": "stream",
     "text": [
      "* * * * \n",
      "* * * \n",
      "* * \n",
      "* \n"
     ]
    }
   ],
   "source": [
    "num = int(input(\"Enter the number of rows:\"))\n",
    "\n",
    "for i in range(num, 0, -1):\n",
    "    for x in range(i):\n",
    "        \n",
    "        print (\"*\", end = \" \") \n",
    "    print()"
   ]
  },
  {
   "cell_type": "code",
   "execution_count": 24,
   "id": "8367b819-be02-4be1-8b53-8f92b2bd5fe3",
   "metadata": {},
   "outputs": [
    {
     "name": "stdout",
     "output_type": "stream",
     "text": [
      "1 * 5 = 5\n",
      "1 * 6 = 6\n",
      "1 * 7 = 7\n",
      "2 * 5 = 10\n",
      "2 * 6 = 12\n",
      "2 * 7 = 14\n",
      "3 * 5 = 15\n",
      "3 * 6 = 18\n",
      "3 * 7 = 21\n"
     ]
    }
   ],
   "source": [
    "for x in range (1, 4):\n",
    "    for y in range (5, 8):\n",
    "        \n",
    "        print(\"%d * %d = %d\" % (x, y, x * y))"
   ]
  },
  {
   "cell_type": "code",
   "execution_count": 25,
   "id": "08d2303b-ffe4-47af-8bb7-1caf6b443320",
   "metadata": {},
   "outputs": [
    {
     "name": "stdout",
     "output_type": "stream",
     "text": [
      "num = 1 :  1  2  3  4  5  6  7  8  9 \n",
      "num = 2 :  2  4  6  8 10 12 14 16 18 \n",
      "num = 3 :  3  6  9 12 15 18 21 24 27 \n",
      "num = 4 :  4  8 12 16 20 24 28 32 36 \n",
      "num = 5 :  5 10 15 20 25 30 35 40 45 \n",
      "num = 6 :  6 12 18 24 30 36 42 48 54 \n",
      "num = 7 :  7 14 21 28 35 42 49 56 63 \n",
      "num = 8 :  8 16 24 32 40 48 56 64 72 \n",
      "num = 9 :  9 18 27 36 45 54 63 72 81 \n"
     ]
    }
   ],
   "source": [
    "for num1 in range(1, 10):\n",
    "    print(\"num =\", num1, \":\", end = \" \")\n",
    "    \n",
    "    for num_2 in range(1, 10):\n",
    "        print(\"{:2d}\".format(num1 * num_2), end = \" \")\n",
    "        \n",
    "    print()"
   ]
  },
  {
   "cell_type": "code",
   "execution_count": 26,
   "id": "2fc38825-a344-4df6-be5c-eba271683c9b",
   "metadata": {},
   "outputs": [
    {
     "name": "stdout",
     "output_type": "stream",
     "text": [
      "3 is divisible by 3\n",
      "5 is divisible by 5\n",
      "6 is divisible by 3\n",
      "9 is divisible by 3\n",
      "10 is divisible by 5\n",
      "12 is divisible by 3\n",
      "15 is divisible by both 3 and 5\n"
     ]
    }
   ],
   "source": [
    "for i in range(1, 16):\n",
    "    \n",
    "    if i % 3 == 0 and i % 5 == 0:\n",
    "        print(i,\"is divisible by both 3 and 5\")\n",
    "    elif i % 3 == 0:\n",
    "        print(i,\"is divisible by 3\")\n",
    "    elif i % 5 == 0:\n",
    "        print(i,\"is divisible by 5\")"
   ]
  },
  {
   "cell_type": "code",
   "execution_count": null,
   "id": "3955c122-0ad6-43fb-a395-90238c73e3a4",
   "metadata": {},
   "outputs": [],
   "source": []
  }
 ],
 "metadata": {
  "kernelspec": {
   "display_name": "Python 3 (ipykernel)",
   "language": "python",
   "name": "python3"
  },
  "language_info": {
   "codemirror_mode": {
    "name": "ipython",
    "version": 3
   },
   "file_extension": ".py",
   "mimetype": "text/x-python",
   "name": "python",
   "nbconvert_exporter": "python",
   "pygments_lexer": "ipython3",
   "version": "3.11.7"
  }
 },
 "nbformat": 4,
 "nbformat_minor": 5
}
