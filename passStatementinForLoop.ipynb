{
 "cells": [
  {
   "cell_type": "code",
   "execution_count": 1,
   "id": "7dce7741-9e00-4022-b3cc-387e2af51f7e",
   "metadata": {},
   "outputs": [
    {
     "name": "stdout",
     "output_type": "stream",
     "text": [
      "Current Letter : s\n",
      "Current Letter : t\n",
      "This is the pass block\n",
      "Current Letter : i\n",
      "Current Letter : n\n",
      "Current Letter : g\n",
      "out of the loop\n"
     ]
    }
   ],
   "source": [
    "for letter in \"string\": \n",
    "    \n",
    "    if letter == \"r\":\n",
    "        \n",
    "        pass\n",
    "        print(\"This is the pass block\")\n",
    "    \n",
    "    else:   \n",
    "        print (\"Current Letter :\", letter)\n",
    "print (\"out of the loop\")"
   ]
  },
  {
   "cell_type": "code",
   "execution_count": 2,
   "id": "8e0d2f7d-7488-4f4e-a511-51fd974ce13d",
   "metadata": {},
   "outputs": [
    {
     "name": "stdout",
     "output_type": "stream",
     "text": [
      "s\n",
      "t\n",
      "r\n",
      "i\n",
      "n\n",
      "g\n"
     ]
    }
   ],
   "source": [
    "for letter in \"string\": \n",
    "    if letter == \"r\":\n",
    "        pass\n",
    "        \n",
    "    print (letter)"
   ]
  },
  {
   "cell_type": "code",
   "execution_count": 3,
   "id": "0e348d09-51e3-4c07-89aa-c9d4a2715e09",
   "metadata": {
    "jupyter": {
     "source_hidden": true
    }
   },
   "outputs": [
    {
     "name": "stdout",
     "output_type": "stream",
     "text": [
      "1\n",
      "3\n",
      "5\n",
      "7\n",
      "9\n"
     ]
    }
   ],
   "source": [
    "for i in range(10):\n",
    "    \n",
    "    if(i % 2 == 0):\n",
    "        pass\n",
    "    \n",
    "    else:\n",
    "        print(i)"
   ]
  },
  {
   "cell_type": "code",
   "execution_count": 4,
   "id": "d18215f9-05a5-453e-a642-5b2ffe7746b9",
   "metadata": {},
   "outputs": [
    {
     "name": "stdout",
     "output_type": "stream",
     "text": [
      "Count of odd numbers:  0\n",
      "Total count of numbers:  1 \n",
      "\n",
      "1\n",
      "Count of odd numbers:  1\n",
      "Total count of numbers:  2 \n",
      "\n",
      "Count of odd numbers:  1\n",
      "Total count of numbers:  3 \n",
      "\n",
      "3\n",
      "Count of odd numbers:  2\n",
      "Total count of numbers:  4 \n",
      "\n",
      "Count of odd numbers:  2\n",
      "Total count of numbers:  5 \n",
      "\n",
      "5\n",
      "Count of odd numbers:  3\n",
      "Total count of numbers:  6 \n",
      "\n",
      "Count of odd numbers:  3\n",
      "Total count of numbers:  7 \n",
      "\n",
      "7\n",
      "Count of odd numbers:  4\n",
      "Total count of numbers:  8 \n",
      "\n",
      "Count of odd numbers:  4\n",
      "Total count of numbers:  9 \n",
      "\n",
      "9\n",
      "Count of odd numbers:  5\n",
      "Total count of numbers:  10 \n",
      "\n"
     ]
    }
   ],
   "source": [
    "odd_count = 0\n",
    "total_count = 0\n",
    "\n",
    "for i in range(10):\n",
    "    \n",
    "    if(i % 2 == 0):\n",
    "        pass\n",
    "    \n",
    "    else:\n",
    "        print(i)\n",
    "        odd_count += 1\n",
    "        \n",
    "    total_count += 1\n",
    "    \n",
    "    print(\"Count of odd numbers: \", odd_count)\n",
    "    print(\"Total count of numbers: \", total_count, \"\\n\")"
   ]
  },
  {
   "cell_type": "code",
   "execution_count": 5,
   "id": "36421698-61f4-44a6-be78-fd4790a53b61",
   "metadata": {},
   "outputs": [
    {
     "name": "stdin",
     "output_type": "stream",
     "text": [
      "Input a string:  vasile\n"
     ]
    },
    {
     "name": "stdout",
     "output_type": "stream",
     "text": [
      "Digits =  0\n",
      "Letters =  6\n"
     ]
    }
   ],
   "source": [
    "my_str = input (\"Input a string: \")\n",
    "\n",
    "digits = 0\n",
    "letters = 0\n",
    "\n",
    "for i in my_str:\n",
    "    if i.isdigit():\n",
    "        digits = digits + 1\n",
    "        \n",
    "    elif i.isalpha():\n",
    "        letters = letters + 1\n",
    "        \n",
    "    else:\n",
    "        pass\n",
    "    \n",
    "print(\"Digits = \", digits)\n",
    "print(\"Letters = \", letters)     \n"
   ]
  },
  {
   "cell_type": "code",
   "execution_count": null,
   "id": "024d0f2b-a5ee-428a-8068-bfdded9a8a2c",
   "metadata": {},
   "outputs": [],
   "source": []
  }
 ],
 "metadata": {
  "kernelspec": {
   "display_name": "Python 3 (ipykernel)",
   "language": "python",
   "name": "python3"
  },
  "language_info": {
   "codemirror_mode": {
    "name": "ipython",
    "version": 3
   },
   "file_extension": ".py",
   "mimetype": "text/x-python",
   "name": "python",
   "nbconvert_exporter": "python",
   "pygments_lexer": "ipython3",
   "version": "3.11.7"
  }
 },
 "nbformat": 4,
 "nbformat_minor": 5
}
