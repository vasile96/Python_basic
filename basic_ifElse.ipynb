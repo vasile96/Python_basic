{
 "cells": [
  {
   "cell_type": "code",
   "execution_count": 1,
   "id": "30a0106d-25b9-4a36-92b4-99857a10888a",
   "metadata": {},
   "outputs": [
    {
     "name": "stdout",
     "output_type": "stream",
     "text": [
      "Enter salary amount:  2400\n",
      "Enter expenses:  1560\n"
     ]
    },
    {
     "name": "stdout",
     "output_type": "stream",
     "text": [
      "My total savings in a month is:  840\n"
     ]
    }
   ],
   "source": [
    "salary = int(input(\"Enter salary amount: \"))\n",
    "expenses = int(input(\"Enter expenses: \"))\n",
    "\n",
    "savings = salary - expenses\n",
    "\n",
    "print(\"My total savings in a month is: \", savings)"
   ]
  },
  {
   "cell_type": "code",
   "execution_count": 2,
   "id": "37d4d38b-f3d1-46a5-80c7-583705cd8e35",
   "metadata": {},
   "outputs": [
    {
     "name": "stdout",
     "output_type": "stream",
     "text": [
      "Enter first variable:  23\n",
      "Enter second variable:  14\n"
     ]
    },
    {
     "name": "stdout",
     "output_type": "stream",
     "text": [
      "\n",
      "First_num is: 14 \n",
      "Second_num is: 23\n"
     ]
    }
   ],
   "source": [
    "first_num = int(input(\"Enter first variable: \"))      \n",
    "second_num = int(input(\"Enter second variable: \"))    \n",
    "\n",
    "first_num = first_num + second_num       \n",
    "second_num = first_num - second_num       \n",
    "first_num = first_num - second_num       \n",
    "\n",
    "print (\"\\nFirst_num is:\", first_num , \"\\nSecond_num is:\", second_num)"
   ]
  },
  {
   "cell_type": "code",
   "execution_count": 3,
   "id": "ba216cc1-cfd4-44fe-a71f-46ca60aa498f",
   "metadata": {},
   "outputs": [
    {
     "name": "stdout",
     "output_type": "stream",
     "text": [
      "Enter a number:  5\n"
     ]
    },
    {
     "name": "stdout",
     "output_type": "stream",
     "text": [
      "5 + 55 + 555 = 615\n"
     ]
    }
   ],
   "source": [
    "num = int(input('Enter a number: '))\n",
    "\n",
    "temp1 = str(num)\n",
    "temp2 = temp1 + temp1\n",
    "temp3 = temp1 + temp1 + temp1\n",
    "\n",
    "total = num + (int(temp2) + int(temp3))\n",
    "\n",
    "print(temp1, '+', temp2, '+', temp3, '=', total)"
   ]
  },
  {
   "cell_type": "code",
   "execution_count": 5,
   "id": "0ba9d346-d78e-4dbe-ae68-9af078522564",
   "metadata": {},
   "outputs": [
    {
     "name": "stdout",
     "output_type": "stream",
     "text": [
      "Enter first number:  4\n",
      "Enter your second number:  2\n"
     ]
    },
    {
     "name": "stdout",
     "output_type": "stream",
     "text": [
      "\n",
      "Quotient:  2\n",
      "Reminder: 0\n"
     ]
    }
   ],
   "source": [
    "num_1 = int(input('Enter first number: '))\n",
    "num_2 = int(input('Enter your second number: '))\n",
    "\n",
    "Quotient = int(num_1 / num_2)\n",
    "print('\\nQuotient: ', Quotient)\n",
    "\n",
    "Reminder = num_1 % num_2\n",
    "print('Reminder:', Reminder)"
   ]
  },
  {
   "cell_type": "code",
   "execution_count": 6,
   "id": "4f8013f7-6131-4392-ac21-e9804cd9248b",
   "metadata": {},
   "outputs": [
    {
     "name": "stdout",
     "output_type": "stream",
     "text": [
      "Give the height in centimeters:  25\n"
     ]
    },
    {
     "name": "stdout",
     "output_type": "stream",
     "text": [
      "The length in inches:  9.85\n",
      "The length in feet:  0.81\n"
     ]
    }
   ],
   "source": [
    "cm = int(input(\"Give the height in centimeters: \"))\n",
    "inches = 0.394 * cm\n",
    "feet = 0.0324 * cm\n",
    "\n",
    "print (\"The length in inches: \", round(inches, 2))\n",
    "print (\"The length in feet: \", round(feet, 2))"
   ]
  },
  {
   "cell_type": "code",
   "execution_count": 7,
   "id": "0066e779-aaa1-4d19-a58f-55b2748ffca0",
   "metadata": {},
   "outputs": [
    {
     "name": "stdout",
     "output_type": "stream",
     "text": [
      "List of cars before the swap:  ['Toyota Camry', 'Honda Accord', 'Honda Civic', 'Toyota Corolla']\n",
      "List of cars after the swap:  ['Honda Civic', 'Honda Accord', 'Toyota Camry', 'Toyota Corolla']\n"
     ]
    }
   ],
   "source": [
    "cars_list = [\"Toyota Camry\", \"Honda Accord\", \"Honda Civic\", \"Toyota Corolla\"]\n",
    "\n",
    "print(\"List of cars before the swap: \", cars_list)\n",
    "\n",
    "cars_list_temp = cars_list[0]\n",
    "\n",
    "cars_list[0] = cars_list[2]\n",
    "\n",
    "cars_list[2] = cars_list_temp\n",
    "\n",
    "print(\"List of cars after the swap: \", cars_list)"
   ]
  },
  {
   "cell_type": "code",
   "execution_count": 8,
   "id": "04b8728b-987b-4f5d-abff-24b421775021",
   "metadata": {},
   "outputs": [
    {
     "name": "stdout",
     "output_type": "stream",
     "text": [
      "list of cars before the swap:  ['Toyota Camry', 'Honda Accord', 'Honda Civic', 'Toyota Corolla']\n",
      "list of cars after  the swap:  ['Toyota Camry', 'Honda Civic', 'Honda Accord', 'Toyota Corolla']\n"
     ]
    }
   ],
   "source": [
    "cars_list = [\"Toyota Camry\", \"Honda Accord\", \"Honda Civic\", \"Toyota Corolla\"]\n",
    "\n",
    "print(\"list of cars before the swap: \", cars_list)\n",
    "\n",
    "car1 = 1\n",
    "car2 = 2\n",
    "\n",
    "cars_list[car1], cars_list[car2] = cars_list[car2], cars_list[car1]\n",
    "\n",
    "print(\"list of cars after  the swap: \", cars_list)"
   ]
  },
  {
   "cell_type": "code",
   "execution_count": 9,
   "id": "a6c492ba-5e32-4a91-bbd5-140c562dd6ba",
   "metadata": {},
   "outputs": [
    {
     "name": "stdout",
     "output_type": "stream",
     "text": [
      "Student list:  ['Sofia', 'Ella', 'Samuel', 'Ella', 'Aiden', 'Sofia']\n",
      "Number of Students:  6\n",
      "\n",
      "New student list:  ['Ella', 'Aiden', 'Samuel', 'Sofia']\n",
      "Length of modified students list:  4\n",
      "There are 2 duplicate elements\n"
     ]
    }
   ],
   "source": [
    "list_student = [\"Sofia\", \"Ella\", \"Samuel\", \"Ella\", \"Aiden\", \"Sofia\"]\n",
    "\n",
    "print(\"Student list: \", list_student)\n",
    "\n",
    "print(\"Number of Students: \", len(list_student))\n",
    "\n",
    "student_set = set(list_student)\n",
    "\n",
    "print(\"\\nNew student list: \", list(student_set))\n",
    "\n",
    "print(\"Length of modified students list: \", len(student_set))\n",
    "\n",
    "print(\"There are %s duplicate elements\"%(len(list_student) - len(student_set)))"
   ]
  },
  {
   "cell_type": "code",
   "execution_count": 10,
   "id": "d6338d3c-65ab-424f-9e0e-4d4e0e0e98de",
   "metadata": {},
   "outputs": [
    {
     "name": "stdout",
     "output_type": "stream",
     "text": [
      "There are 2 duplicate elements\n"
     ]
    }
   ],
   "source": [
    "list_str = [\"Sofia\",\"Ella\",\"Samuel\",\"Ella\",\"Aiden\",\"Sofia\"]\n",
    "\n",
    "len_list_str = len(list_str)\n",
    "\n",
    "len_set_str = len(set(list_str))\n",
    "\n",
    "if len_list_str == len_set_str:\n",
    "    \n",
    "    print(\"There are no duplicate elements\")\n",
    "    \n",
    "else:\n",
    "    \n",
    "    print(\"There are {} duplicate elements\".format(len_list_str - len_set_str))"
   ]
  },
  {
   "cell_type": "code",
   "execution_count": 11,
   "id": "97020eb8-8c3c-430b-b2f2-54281c6d41ce",
   "metadata": {},
   "outputs": [
    {
     "name": "stdout",
     "output_type": "stream",
     "text": [
      "Enter a score:  88\n"
     ]
    },
    {
     "name": "stdout",
     "output_type": "stream",
     "text": [
      "B grade\n"
     ]
    }
   ],
   "source": [
    "score = int(input(\"Enter a score: \"))\n",
    "\n",
    "if score >= 90:\n",
    "    print(\"A grade\")\n",
    "\n",
    "elif score >=80:\n",
    "    print(\"B grade\")\n",
    "\n",
    "elif score >=70:\n",
    "    print(\"C grade\")\n",
    "\n",
    "elif score >= 50:\n",
    "    print(\"D grade\")\n",
    "\n",
    "else:\n",
    "    print(\"Fail\")"
   ]
  },
  {
   "cell_type": "code",
   "execution_count": 12,
   "id": "ed301c12-d6ec-4627-95d6-b19afb6404c2",
   "metadata": {},
   "outputs": [
    {
     "name": "stdout",
     "output_type": "stream",
     "text": [
      "Enter annual salary:  45000\n",
      "Enter years of service:  7\n"
     ]
    },
    {
     "name": "stdout",
     "output_type": "stream",
     "text": [
      "Bonus is:  2250.0\n"
     ]
    }
   ],
   "source": [
    "salary = int(input(\"Enter annual salary: \"))\n",
    "\n",
    "years_service = int(input(\"Enter years of service: \"))\n",
    "\n",
    "if years_service >= 10: \n",
    "    print (\"Bonus is: \", .15 * salary)\n",
    "\n",
    "elif years_service >= 5 and years_service < 10:\n",
    "    print (\"Bonus is: \", .05 * salary)\n",
    "    \n",
    "else:\n",
    "    print (\"No bonus\")\n",
    "    "
   ]
  }
 ],
 "metadata": {
  "kernelspec": {
   "display_name": "Python 3 (ipykernel)",
   "language": "python",
   "name": "python3"
  },
  "language_info": {
   "codemirror_mode": {
    "name": "ipython",
    "version": 3
   },
   "file_extension": ".py",
   "mimetype": "text/x-python",
   "name": "python",
   "nbconvert_exporter": "python",
   "pygments_lexer": "ipython3",
   "version": "3.11.7"
  }
 },
 "nbformat": 4,
 "nbformat_minor": 5
}
