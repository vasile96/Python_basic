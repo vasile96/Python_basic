{
 "cells": [
  {
   "cell_type": "code",
   "execution_count": 2,
   "id": "f8e96e57-fa6e-4b77-a38c-fb1933636ae4",
   "metadata": {},
   "outputs": [],
   "source": [
    "num = range(10)"
   ]
  },
  {
   "cell_type": "code",
   "execution_count": 3,
   "id": "fb6aebd2-fe90-4f20-9731-83e57e514f77",
   "metadata": {},
   "outputs": [
    {
     "data": {
      "text/plain": [
       "[0, 1, 4, 9, 16, 25, 36, 49, 64, 81]"
      ]
     },
     "execution_count": 3,
     "metadata": {},
     "output_type": "execute_result"
    }
   ],
   "source": [
    "[x * x for x in num]"
   ]
  },
  {
   "cell_type": "code",
   "execution_count": 4,
   "id": "8fc47d07-bbd8-45c1-bc1a-6f885895637e",
   "metadata": {},
   "outputs": [
    {
     "name": "stdout",
     "output_type": "stream",
     "text": [
      "['a', 'n', 'x', 'i', 'e', 't', 'y']\n"
     ]
    }
   ],
   "source": [
    "letters = [letter for letter in \"anxiety\"]\n",
    "\n",
    "print (letters)"
   ]
  },
  {
   "cell_type": "code",
   "execution_count": 5,
   "id": "67d02a20-bcaf-4e83-97d3-8131b0fe4e78",
   "metadata": {},
   "outputs": [
    {
     "name": "stdout",
     "output_type": "stream",
     "text": [
      "['t', 'i', 'a', 'l', 'o', 'w']\n"
     ]
    }
   ],
   "source": [
    "list_of_words = [\"this\", \"is\", \"a\", \"list\", \"of\", \"words\"]\n",
    "\n",
    "items = [word[0] for word in list_of_words]\n",
    "\n",
    "print (items)"
   ]
  },
  {
   "cell_type": "code",
   "execution_count": 6,
   "id": "24304511-1fc9-4027-bdff-24aece12f838",
   "metadata": {},
   "outputs": [
    {
     "data": {
      "text/plain": [
       "['T', 'I', 'A', 'L', 'O', 'W']"
      ]
     },
     "execution_count": 6,
     "metadata": {},
     "output_type": "execute_result"
    }
   ],
   "source": [
    "[word[0].upper() for word in list_of_words]"
   ]
  },
  {
   "cell_type": "code",
   "execution_count": 7,
   "id": "44195bf5-f7a5-4fba-91b8-32ac1a6d49b7",
   "metadata": {},
   "outputs": [
    {
     "data": {
      "text/plain": [
       "['THIS', 'IS', 'A', 'LIST', 'OF', 'WORDS']"
      ]
     },
     "execution_count": 7,
     "metadata": {},
     "output_type": "execute_result"
    }
   ],
   "source": [
    "[word.upper() for word in list_of_words]"
   ]
  },
  {
   "cell_type": "code",
   "execution_count": 8,
   "id": "a369670f-464b-417e-80c9-7afb97bbe82e",
   "metadata": {},
   "outputs": [
    {
     "data": {
      "text/plain": [
       "[1, 9, 25, 49, 81]"
      ]
     },
     "execution_count": 8,
     "metadata": {},
     "output_type": "execute_result"
    }
   ],
   "source": [
    "[x * x for x in num if x % 2 != 0]"
   ]
  },
  {
   "cell_type": "code",
   "execution_count": 10,
   "id": "056b8ed6-0d93-4ee1-9854-4ef49fafa154",
   "metadata": {},
   "outputs": [
    {
     "name": "stdout",
     "output_type": "stream",
     "text": [
      "[0, 27, 54, 81, 108, 135, 162, 189, 216, 243, 270, 297]\n"
     ]
    }
   ],
   "source": [
    "multiples_27 = [i for i in range(300) if i % 27 == 0]\n",
    "\n",
    "print(multiples_27)"
   ]
  },
  {
   "cell_type": "code",
   "execution_count": 11,
   "id": "939a6c45-bbbe-4ee9-a1ee-597ada5f5b67",
   "metadata": {},
   "outputs": [
    {
     "data": {
      "text/plain": [
       "['A', 'E', 'A', 'I']"
      ]
     },
     "execution_count": 11,
     "metadata": {},
     "output_type": "execute_result"
    }
   ],
   "source": [
    "[i for i in \"MATHEMATICS\" if i in [\"A\", \"E\", \"I\", \"O\", \"U\"]]"
   ]
  },
  {
   "cell_type": "code",
   "execution_count": 12,
   "id": "21215bc1-1292-4a9e-9ddc-bbd8d3b6dc58",
   "metadata": {},
   "outputs": [
    {
     "name": "stdout",
     "output_type": "stream",
     "text": [
      "[1, 2, 3, 4, 5]\n"
     ]
    }
   ],
   "source": [
    "string = \"Hello 12345 World\"\n",
    "\n",
    "numbers = [int(x) for x in string if x.isdigit()]\n",
    "\n",
    "print (numbers)"
   ]
  },
  {
   "cell_type": "code",
   "execution_count": 13,
   "id": "92980d0e-03d7-4275-93bd-c0a3755135d3",
   "metadata": {},
   "outputs": [
    {
     "name": "stdout",
     "output_type": "stream",
     "text": [
      "['H', 'e', 'l', 'l', 'o', 'W', 'o', 'r', 'l', 'd']\n"
     ]
    }
   ],
   "source": [
    "alpha = [x for x in string if x.isalpha()]\n",
    "\n",
    "print (alpha)"
   ]
  },
  {
   "cell_type": "code",
   "execution_count": 14,
   "id": "4ed0407e-adaf-43ff-9be5-9d374589e329",
   "metadata": {},
   "outputs": [
    {
     "data": {
      "text/plain": [
       "[('Red', 'Pen'),\n",
       " ('Blue', 'Pen'),\n",
       " ('Green', 'Pen'),\n",
       " ('Red', 'Marker'),\n",
       " ('Blue', 'Marker'),\n",
       " ('Green', 'Marker'),\n",
       " ('Red', 'Ink'),\n",
       " ('Blue', 'Ink'),\n",
       " ('Green', 'Ink')]"
      ]
     },
     "execution_count": 14,
     "metadata": {},
     "output_type": "execute_result"
    }
   ],
   "source": [
    "stationery = [\"Pen\", \"Marker\", \"Ink\"]\n",
    "colors = [\"Red\", \"Blue\", \"Green\"]\n",
    "\n",
    "combined = [(i, j) for j in stationery for i in colors ]\n",
    "\n",
    "combined"
   ]
  },
  {
   "cell_type": "code",
   "execution_count": 15,
   "id": "0e969be0-2178-4fbc-a55b-24adf6fd07db",
   "metadata": {},
   "outputs": [
    {
     "name": "stdout",
     "output_type": "stream",
     "text": [
      "[0, 10, 20, 30, 40, 50]\n"
     ]
    }
   ],
   "source": [
    "number_list = [number for number in range(51) if number % 2 == 0 if number % 5 == 0]\n",
    "\n",
    "print(number_list)"
   ]
  },
  {
   "cell_type": "code",
   "execution_count": 16,
   "id": "63f964e4-31fe-4c11-8587-e2546c310a3d",
   "metadata": {},
   "outputs": [
    {
     "name": "stdout",
     "output_type": "stream",
     "text": [
      "['Even', 'Odd', 'Even', 'Odd', 'Even', 'Odd', 'Even', 'Odd', 'Even', 'Odd']\n"
     ]
    }
   ],
   "source": [
    "num = [\"Even\" if i % 2 == 0 else \"Odd\" for i in range(10)]\n",
    "print(num)"
   ]
  },
  {
   "cell_type": "code",
   "execution_count": 17,
   "id": "df2d6db7-0097-4afd-b8ae-a5e55603b6cd",
   "metadata": {},
   "outputs": [
    {
     "data": {
      "text/plain": [
       "[27, 35, 46, 51, 23, 70, 48, 49, 17]"
      ]
     },
     "execution_count": 17,
     "metadata": {},
     "output_type": "execute_result"
    }
   ],
   "source": [
    "numbers = [22, 30, 45, 50, 18, 69, 43, 44, 12]\n",
    "\n",
    "[x + 1  if x >= 45  else  x + 5  for x in numbers]"
   ]
  },
  {
   "cell_type": "code",
   "execution_count": 18,
   "id": "40489a4c-d8a2-4bfb-a3fe-7389b8a91851",
   "metadata": {},
   "outputs": [
    {
     "name": "stdout",
     "output_type": "stream",
     "text": [
      "['large', 'small', 'small']\n"
     ]
    }
   ],
   "source": [
    "z = [\"small\" if number < 20 else \"large\" for number in numbers if number % 2 == 0 if number % 3 == 0]\n",
    "\n",
    "print(z)"
   ]
  }
 ],
 "metadata": {
  "kernelspec": {
   "display_name": "Python 3 (ipykernel)",
   "language": "python",
   "name": "python3"
  },
  "language_info": {
   "codemirror_mode": {
    "name": "ipython",
    "version": 3
   },
   "file_extension": ".py",
   "mimetype": "text/x-python",
   "name": "python",
   "nbconvert_exporter": "python",
   "pygments_lexer": "ipython3",
   "version": "3.11.7"
  }
 },
 "nbformat": 4,
 "nbformat_minor": 5
}
