{
 "cells": [
  {
   "cell_type": "code",
   "execution_count": 3,
   "id": "8b9a08a4-68a0-47aa-927a-2539e9e029f2",
   "metadata": {},
   "outputs": [
    {
     "name": "stdout",
     "output_type": "stream",
     "text": [
      "p\n",
      "y\n",
      "t\n",
      "h\n"
     ]
    }
   ],
   "source": [
    "for letter in \"python\":\n",
    "    if letter == \"o\":\n",
    "\n",
    "        break\n",
    "    print(letter)"
   ]
  },
  {
   "cell_type": "code",
   "execution_count": 4,
   "id": "36b51ff3-4706-4097-bcaa-9fa7f8b2b4e6",
   "metadata": {},
   "outputs": [
    {
     "name": "stdout",
     "output_type": "stream",
     "text": [
      "p\n",
      "y\n",
      "t\n",
      "h\n",
      "o\n"
     ]
    }
   ],
   "source": [
    "for letter in \"python\":\n",
    "    print(letter)\n",
    "\n",
    "    if letter == \"o\":\n",
    "        break"
   ]
  },
  {
   "cell_type": "code",
   "execution_count": 5,
   "id": "cea72346-bcba-4bf2-a397-d86eec2386db",
   "metadata": {},
   "outputs": [
    {
     "name": "stdout",
     "output_type": "stream",
     "text": [
      "The letter c was found in the string\n"
     ]
    }
   ],
   "source": [
    "for char in 'icecream':\n",
    "    if char == 'c':\n",
    "\n",
    "        print('The letter %s was found in the string' % char)\n",
    "        break\n",
    "\n",
    "else:\n",
    "    print('The letter %s does not exist in the string' % char)"
   ]
  },
  {
   "cell_type": "code",
   "execution_count": 6,
   "id": "fa79e0f3-7cc1-449d-836b-93d22fafc018",
   "metadata": {},
   "outputs": [
    {
     "name": "stdout",
     "output_type": "stream",
     "text": [
      "1 is less than 5\n",
      "2 is less than 5\n",
      "3 is less than 5\n",
      "4 is less than 5\n"
     ]
    }
   ],
   "source": [
    "for i in range (1, 10):\n",
    "\n",
    "    if i >=5:\n",
    "        break\n",
    "\n",
    "    print(i, 'is less than 5')"
   ]
  },
  {
   "cell_type": "code",
   "execution_count": 11,
   "id": "275199ae-d389-499d-9acc-7b7eae059f82",
   "metadata": {},
   "outputs": [
    {
     "name": "stdout",
     "output_type": "stream",
     "text": [
      "0 square 0\n",
      "1 square 1\n",
      "2 square 4\n",
      "3 square 9\n",
      "4 square 16\n"
     ]
    }
   ],
   "source": [
    "my_list = range(10)\n",
    "\n",
    "for num in my_list:\n",
    "    if num ** 2 > 20:\n",
    "\n",
    "        break\n",
    "\n",
    "    print(num, \"square\", num ** 2 )"
   ]
  },
  {
   "cell_type": "code",
   "execution_count": 12,
   "id": "a61a85b5-0111-4088-b398-4ab21dc0ac66",
   "metadata": {},
   "outputs": [
    {
     "name": "stdout",
     "output_type": "stream",
     "text": [
      "The villain got away :(\n"
     ]
    }
   ],
   "source": [
    "places = [\"New Zealand\", \"Norway\", \"Botswana\", \"Zimbabwe\", \"Uzbekistan\", \"Paraguay\"]\n",
    "\n",
    "villain_at = \"Mali\"  \n",
    "\n",
    "for place in places:\n",
    "    if place == villain_at:\n",
    "        \n",
    "        print(\"The Villain has been captured!\")\n",
    "        break\n",
    "else:\n",
    "    print(\"The villain got away :(\")"
   ]
  },
  {
   "cell_type": "code",
   "execution_count": 13,
   "id": "5c8ca74b-0996-43da-8107-22bd0b868f1b",
   "metadata": {},
   "outputs": [
    {
     "name": "stdout",
     "output_type": "stream",
     "text": [
      "The Villain has been captured!\n"
     ]
    }
   ],
   "source": [
    "places = [\"New Zealand\", \"Norway\", \"Botswana\", \"Zimbabwe\", \"Uzbekistan\", \"Paraguay\"]\n",
    "\n",
    "villain_at = \"Norway\"  \n",
    "\n",
    "for place in places:\n",
    "    if place == villain_at:\n",
    "        \n",
    "        print(\"The Villain has been captured!\")\n",
    "        break\n",
    "else:\n",
    "    print(\"The villain got away :(\")"
   ]
  },
  {
   "cell_type": "code",
   "execution_count": 15,
   "id": "af692ac9-9880-4cf1-9d7e-6be7fd448e85",
   "metadata": {},
   "outputs": [
    {
     "name": "stdin",
     "output_type": "stream",
     "text": [
      "Enter a number:  7\n"
     ]
    },
    {
     "name": "stdout",
     "output_type": "stream",
     "text": [
      "7 is a prime number\n"
     ]
    }
   ],
   "source": [
    "num = int(input(\"Enter a number: \"))\n",
    "\n",
    "for i in range(2, num):\n",
    "    if num % i == 0:\n",
    "        \n",
    "        print(\"It is not a prime number\")\n",
    "        break\n",
    "        \n",
    "else:\n",
    "    print(num,\"is a prime number\")"
   ]
  },
  {
   "cell_type": "code",
   "execution_count": 17,
   "id": "c6fc7a9e-f665-4192-9657-55e9c75db2b4",
   "metadata": {},
   "outputs": [
    {
     "name": "stdin",
     "output_type": "stream",
     "text": [
      "Enter a password:  secret\n"
     ]
    },
    {
     "name": "stdout",
     "output_type": "stream",
     "text": [
      "you guessed the password :)\n"
     ]
    }
   ],
   "source": [
    "for i in range(3):\n",
    "    password = str(input(\"Enter a password: \"))\n",
    "    \n",
    "    if password == \"secret\":\n",
    "        print (\"you guessed the password :)\")\n",
    "        break\n",
    "        \n",
    "else:\n",
    "    print (\"3 incorrect password attempts\")"
   ]
  },
  {
   "cell_type": "code",
   "execution_count": null,
   "id": "e569e4a5-c6ff-4c43-945d-8c46231c8964",
   "metadata": {},
   "outputs": [],
   "source": []
  },
  {
   "cell_type": "code",
   "execution_count": null,
   "id": "506275d6-ccca-411e-aecd-e517f2a15846",
   "metadata": {},
   "outputs": [],
   "source": []
  },
  {
   "cell_type": "code",
   "execution_count": null,
   "id": "6d102c79-d4de-4e8f-ae8b-a0f6bbb2f84a",
   "metadata": {},
   "outputs": [],
   "source": []
  },
  {
   "cell_type": "code",
   "execution_count": null,
   "id": "26dea7f3-67fc-4655-aa81-98b19c675fb9",
   "metadata": {},
   "outputs": [],
   "source": []
  }
 ],
 "metadata": {
  "kernelspec": {
   "display_name": "Python 3 (ipykernel)",
   "language": "python",
   "name": "python3"
  },
  "language_info": {
   "codemirror_mode": {
    "name": "ipython",
    "version": 3
   },
   "file_extension": ".py",
   "mimetype": "text/x-python",
   "name": "python",
   "nbconvert_exporter": "python",
   "pygments_lexer": "ipython3",
   "version": "3.11.7"
  }
 },
 "nbformat": 4,
 "nbformat_minor": 5
}
