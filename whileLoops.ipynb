{
 "cells": [
  {
   "cell_type": "code",
   "execution_count": 2,
   "id": "f526d846-0a5c-404d-81c3-f6569af8b6ae",
   "metadata": {},
   "outputs": [],
   "source": [
    "number = 20\n",
    "\n",
    "while number < 20:\n",
    "    print(number)"
   ]
  },
  {
   "cell_type": "code",
   "execution_count": 1,
   "id": "03ae1d7c-5e38-4535-a39b-7635389c3dfe",
   "metadata": {},
   "outputs": [
    {
     "name": "stdout",
     "output_type": "stream",
     "text": [
      "20\n"
     ]
    }
   ],
   "source": [
    "number = 20\n",
    "\n",
    "while number < 25:\n",
    "    print(number)\n",
    "\n",
    "    number = 26"
   ]
  },
  {
   "cell_type": "code",
   "execution_count": 2,
   "id": "a96bb1d0-3b5c-4058-9c11-9e5c5ef0a1dd",
   "metadata": {},
   "outputs": [
    {
     "name": "stdout",
     "output_type": "stream",
     "text": [
      "20\n",
      "21\n",
      "22\n",
      "23\n",
      "24\n"
     ]
    }
   ],
   "source": [
    "number = 20\n",
    "\n",
    "while number < 25:\n",
    "    print(number)\n",
    "\n",
    "    number += 1"
   ]
  },
  {
   "cell_type": "code",
   "execution_count": 3,
   "id": "4889324d-3860-4b63-949c-4be3ea04fdb9",
   "metadata": {},
   "outputs": [
    {
     "name": "stdout",
     "output_type": "stream",
     "text": [
      "20\n",
      "21\n",
      "22\n",
      "23\n",
      "24\n",
      "25\n",
      "26\n",
      "27\n",
      "28\n",
      "29\n",
      "30\n"
     ]
    }
   ],
   "source": [
    "number = 20\n",
    "\n",
    "while number <= (25+5):\n",
    "    print(number)\n",
    "\n",
    "    number += 1"
   ]
  },
  {
   "cell_type": "code",
   "execution_count": 4,
   "id": "263106b5-f2c0-4e6b-9dca-85e3578d4bc9",
   "metadata": {},
   "outputs": [
    {
     "name": "stdout",
     "output_type": "stream",
     "text": [
      "Value of num is 5\n",
      "Value of num is 4\n",
      "Value of num is 3\n",
      "Value of num is 2\n",
      "Value of num is 1\n",
      "good bye\n"
     ]
    }
   ],
   "source": [
    "num = 5\n",
    "\n",
    "while num:\n",
    "    print('Value of num is', num)\n",
    "\n",
    "    num  = num -1\n",
    "\n",
    "print(\"good bye\")"
   ]
  },
  {
   "cell_type": "code",
   "execution_count": 5,
   "id": "9151945b-9314-43f2-8a02-21c862933a4c",
   "metadata": {},
   "outputs": [
    {
     "name": "stdout",
     "output_type": "stream",
     "text": [
      "Thomas is an amazing soccer player\n"
     ]
    }
   ],
   "source": [
    "name = \"Thomas\"\n",
    "\n",
    "while name == \"Thomas\":\n",
    "    \n",
    "    print(\"%s is an amazing soccer player\" % name)\n",
    "    \n",
    "    name = \"Kingsley\""
   ]
  },
  {
   "cell_type": "code",
   "execution_count": 6,
   "id": "d527bee3-b766-4177-b70b-d58655ff052c",
   "metadata": {},
   "outputs": [
    {
     "name": "stdin",
     "output_type": "stream",
     "text": [
      "password:  123\n",
      "password:  1\n",
      "password:  vasea\n",
      "password:  port\n",
      "password:  1234\n"
     ]
    },
    {
     "name": "stdout",
     "output_type": "stream",
     "text": [
      "\n",
      "Access Granted!\n"
     ]
    }
   ],
   "source": [
    "user_password = \"\"\n",
    "\n",
    "while user_password != \"1234\":\n",
    "    user_password = input(\"password: \")\n",
    "\n",
    "print(\"\\nAccess Granted!\")"
   ]
  },
  {
   "cell_type": "code",
   "execution_count": 7,
   "id": "be466c87-f20d-4c17-8fd4-6f337fdccf8c",
   "metadata": {},
   "outputs": [
    {
     "name": "stdout",
     "output_type": "stream",
     "text": [
      "1\n",
      "4\n",
      "9\n",
      "16\n",
      "25\n",
      "36\n",
      "49\n",
      "64\n",
      "81\n",
      "100\n"
     ]
    }
   ],
   "source": [
    "num = 1\n",
    "\n",
    "while num <= 10:\n",
    "    \n",
    "    print(num ** 2)\n",
    "    \n",
    "    num += 1"
   ]
  },
  {
   "cell_type": "code",
   "execution_count": 8,
   "id": "c185b059-baa6-4402-ab2e-33fbdf326ff8",
   "metadata": {},
   "outputs": [
    {
     "name": "stdout",
     "output_type": "stream",
     "text": [
      "0\n",
      "1\n",
      "2\n",
      "3\n",
      "4\n",
      "5\n",
      "6\n",
      "7\n",
      "8\n",
      "9\n"
     ]
    }
   ],
   "source": [
    "num = 0\n",
    "\n",
    "while num in range(0, 10):\n",
    "    print(num)\n",
    "    \n",
    "    num = num + 1"
   ]
  },
  {
   "cell_type": "code",
   "execution_count": 9,
   "id": "e27d0a83-5674-43b5-a801-5d6a7344ff7c",
   "metadata": {},
   "outputs": [
    {
     "name": "stdout",
     "output_type": "stream",
     "text": [
      "even number:  0\n",
      "even number:  2\n",
      "even number:  4\n",
      "even number:  6\n",
      "even number:  8\n"
     ]
    }
   ],
   "source": [
    "num = 0\n",
    "\n",
    "while num in range(0, 10):\n",
    "    \n",
    "    if num % 2 == 0:\n",
    "        print(\"even number: \", num)\n",
    "        \n",
    "    num = num + 1"
   ]
  },
  {
   "cell_type": "code",
   "execution_count": 10,
   "id": "9e62e2e0-ed56-4b6a-9f3c-a9272b037fae",
   "metadata": {},
   "outputs": [
    {
     "name": "stdin",
     "output_type": "stream",
     "text": [
      "enter an integer:  15\n"
     ]
    },
    {
     "name": "stdout",
     "output_type": "stream",
     "text": [
      "number of digits:  2\n"
     ]
    }
   ],
   "source": [
    "value_int = int(input(\"enter an integer: \"))\n",
    "\n",
    "length = 0\n",
    "\n",
    "while value_int > 0:\n",
    "    \n",
    "    value_int //= 10 \n",
    "   \n",
    "    length += 1\n",
    "    \n",
    "print(\"number of digits: \" , length) "
   ]
  },
  {
   "cell_type": "code",
   "execution_count": 11,
   "id": "2e98103f-bd4f-49f8-ab37-8d600b81f26f",
   "metadata": {},
   "outputs": [],
   "source": [
    "x, y = 0, 8"
   ]
  },
  {
   "cell_type": "code",
   "execution_count": 12,
   "id": "f75ce45f-65b6-463c-9658-bef080135f3d",
   "metadata": {},
   "outputs": [
    {
     "name": "stdout",
     "output_type": "stream",
     "text": [
      "1\n",
      "2\n",
      "3\n",
      "4\n",
      "5\n",
      "6\n",
      "7\n",
      "8\n"
     ]
    }
   ],
   "source": [
    "while(x < y):  x = x + 1; print(x)"
   ]
  },
  {
   "cell_type": "code",
   "execution_count": 13,
   "id": "c801ce2f-ff31-47db-a048-edeb1e3a4a84",
   "metadata": {},
   "outputs": [
    {
     "name": "stdout",
     "output_type": "stream",
     "text": [
      "1 1\n",
      "1 2\n",
      "1 3\n",
      "1 4\n",
      "2 1\n",
      "2 2\n",
      "2 3\n",
      "2 4\n",
      "3 1\n",
      "3 2\n",
      "3 3\n",
      "3 4\n",
      "4 1\n",
      "4 2\n",
      "4 3\n",
      "4 4\n"
     ]
    }
   ],
   "source": [
    "x = 1\n",
    "\n",
    "while x < 5:\n",
    "    \n",
    "    y = 1\n",
    "    \n",
    "    while y < 5:\n",
    "        print(x,y)\n",
    "        y = y + 1\n",
    "        \n",
    "    x = x + 1"
   ]
  },
  {
   "cell_type": "code",
   "execution_count": 14,
   "id": "1281858f-9552-4e51-b0f1-04c2c2626e71",
   "metadata": {},
   "outputs": [],
   "source": [
    "num_list = [20, 30, 40, 50, 60]"
   ]
  },
  {
   "cell_type": "code",
   "execution_count": 15,
   "id": "eaf9e586-a849-4459-bcbf-79e109fdd22a",
   "metadata": {},
   "outputs": [
    {
     "name": "stdout",
     "output_type": "stream",
     "text": [
      "20\n",
      "30\n",
      "40\n",
      "50\n",
      "60\n"
     ]
    }
   ],
   "source": [
    "count = 0 \n",
    "\n",
    "while count < len(num_list):\n",
    "    \n",
    "    print(num_list[count])\n",
    "    \n",
    "    count = count + 1"
   ]
  },
  {
   "cell_type": "code",
   "execution_count": 16,
   "id": "d1ad2667-e318-4cde-9913-e5eaf2f5d5c1",
   "metadata": {},
   "outputs": [
    {
     "name": "stdout",
     "output_type": "stream",
     "text": [
      "there are 5 elements in the list\n"
     ]
    }
   ],
   "source": [
    "count = 0\n",
    "\n",
    "while count < len(num_list):\n",
    "    \n",
    "    count = count + 1\n",
    "    \n",
    "print(\"there are %d elements in the list\" %count)"
   ]
  },
  {
   "cell_type": "code",
   "execution_count": 17,
   "id": "777fc2ee-74a0-4ef0-ad87-bed0dc850641",
   "metadata": {},
   "outputs": [
    {
     "name": "stdout",
     "output_type": "stream",
     "text": [
      "20\n",
      "50\n",
      "90\n",
      "140\n",
      "200\n",
      "sum of all elements in the list : 200\n"
     ]
    }
   ],
   "source": [
    "total = 0\n",
    "element = 0\n",
    "\n",
    "while element < len(num_list):\n",
    "\n",
    "    total = total + num_list[element]\n",
    "    \n",
    "    print(total)\n",
    "    \n",
    "    element += 1\n",
    "    \n",
    "print(\"sum of all elements in the list :\" , total)"
   ]
  },
  {
   "cell_type": "code",
   "execution_count": 18,
   "id": "f3519cc3-2c18-4f5b-b01e-ccbfcf179103",
   "metadata": {},
   "outputs": [],
   "source": [
    "smartphone_brands = [\"Samsung\", \"Huawei\", \"Apple\", \n",
    "                     \"Nokia\", \"OnePlus\", \"Vivo\", \"Sony\"]"
   ]
  },
  {
   "cell_type": "code",
   "execution_count": 19,
   "id": "f00e6e1c-93fb-4149-9f33-0c9647955b91",
   "metadata": {},
   "outputs": [
    {
     "name": "stdout",
     "output_type": "stream",
     "text": [
      "Samsung\n",
      "Huawei\n",
      "Apple\n",
      "Nokia\n",
      "OnePlus\n",
      "Vivo\n",
      "Sony\n"
     ]
    },
    {
     "ename": "IndexError",
     "evalue": "list index out of range",
     "output_type": "error",
     "traceback": [
      "\u001b[0;31m---------------------------------------------------------------------------\u001b[0m",
      "\u001b[0;31mIndexError\u001b[0m                                Traceback (most recent call last)",
      "Cell \u001b[0;32mIn[19], line 4\u001b[0m\n\u001b[1;32m      1\u001b[0m count \u001b[38;5;241m=\u001b[39m \u001b[38;5;241m0\u001b[39m\n\u001b[1;32m      3\u001b[0m \u001b[38;5;28;01mwhile\u001b[39;00m count \u001b[38;5;241m<\u001b[39m \u001b[38;5;241m10\u001b[39m:\n\u001b[0;32m----> 4\u001b[0m     \u001b[38;5;28mprint\u001b[39m(smartphone_brands[count])\n\u001b[1;32m      6\u001b[0m     count \u001b[38;5;241m=\u001b[39m count \u001b[38;5;241m+\u001b[39m \u001b[38;5;241m1\u001b[39m\n",
      "\u001b[0;31mIndexError\u001b[0m: list index out of range"
     ]
    }
   ],
   "source": [
    "count = 0\n",
    "\n",
    "while count < 10:\n",
    "    print(smartphone_brands[count])\n",
    "    \n",
    "    count = count + 1"
   ]
  },
  {
   "cell_type": "code",
   "execution_count": 20,
   "id": "a5fbdf97-fd18-4660-85fc-f500be23c77f",
   "metadata": {},
   "outputs": [
    {
     "data": {
      "text/plain": [
       "7"
      ]
     },
     "execution_count": 20,
     "metadata": {},
     "output_type": "execute_result"
    }
   ],
   "source": [
    "len(smartphone_brands)\n"
   ]
  },
  {
   "cell_type": "code",
   "execution_count": 21,
   "id": "25b640c1-8a45-424a-ab49-f66ba8b7e760",
   "metadata": {},
   "outputs": [
    {
     "name": "stdout",
     "output_type": "stream",
     "text": [
      "Samsung\n",
      "Huawei\n",
      "Apple\n",
      "Nokia\n",
      "OnePlus\n",
      "Vivo\n",
      "Sony\n"
     ]
    },
    {
     "ename": "IndexError",
     "evalue": "list index out of range",
     "output_type": "error",
     "traceback": [
      "\u001b[0;31m---------------------------------------------------------------------------\u001b[0m",
      "\u001b[0;31mIndexError\u001b[0m                                Traceback (most recent call last)",
      "Cell \u001b[0;32mIn[21], line 4\u001b[0m\n\u001b[1;32m      1\u001b[0m count \u001b[38;5;241m=\u001b[39m \u001b[38;5;241m0\u001b[39m\n\u001b[1;32m      3\u001b[0m \u001b[38;5;28;01mwhile\u001b[39;00m count \u001b[38;5;241m<\u001b[39m \u001b[38;5;241m10\u001b[39m:\n\u001b[0;32m----> 4\u001b[0m     \u001b[38;5;28mprint\u001b[39m(smartphone_brands[count])\n\u001b[1;32m      6\u001b[0m     count \u001b[38;5;241m=\u001b[39m count \u001b[38;5;241m+\u001b[39m \u001b[38;5;241m1\u001b[39m\n",
      "\u001b[0;31mIndexError\u001b[0m: list index out of range"
     ]
    }
   ],
   "source": [
    "count = 0\n",
    "\n",
    "while count < 10:\n",
    "    print(smartphone_brands[count])\n",
    "    \n",
    "    count = count + 1"
   ]
  },
  {
   "cell_type": "code",
   "execution_count": null,
   "id": "3c2c765e-ae03-4e30-8ee1-dd6348f13a38",
   "metadata": {},
   "outputs": [],
   "source": []
  },
  {
   "cell_type": "code",
   "execution_count": null,
   "id": "c225b4ad-a65e-4392-a957-e9a154ce73b1",
   "metadata": {},
   "outputs": [],
   "source": []
  },
  {
   "cell_type": "code",
   "execution_count": null,
   "id": "5aa8e9b9-dd8a-4fdb-921c-19169dbb3efa",
   "metadata": {},
   "outputs": [],
   "source": []
  },
  {
   "cell_type": "code",
   "execution_count": null,
   "id": "6a63b46f-965d-44ee-9b8b-3994e43e12b4",
   "metadata": {},
   "outputs": [],
   "source": []
  },
  {
   "cell_type": "code",
   "execution_count": null,
   "id": "98dcdce8-5f00-4e1b-b66c-c2428fd7c5f8",
   "metadata": {},
   "outputs": [],
   "source": []
  },
  {
   "cell_type": "code",
   "execution_count": null,
   "id": "ed88a12f-12ee-4ebe-87de-4fac5c231418",
   "metadata": {},
   "outputs": [],
   "source": []
  },
  {
   "cell_type": "code",
   "execution_count": null,
   "id": "97b39fd0-b7d3-461b-8fc4-f1804925dbb3",
   "metadata": {},
   "outputs": [],
   "source": []
  },
  {
   "cell_type": "code",
   "execution_count": null,
   "id": "30928124-c2fd-48e6-94ff-abed65da9c1c",
   "metadata": {},
   "outputs": [],
   "source": []
  },
  {
   "cell_type": "code",
   "execution_count": null,
   "id": "1134e39a-9768-4057-b028-2dbd2a8f53b4",
   "metadata": {},
   "outputs": [],
   "source": []
  }
 ],
 "metadata": {
  "kernelspec": {
   "display_name": "Python 3 (ipykernel)",
   "language": "python",
   "name": "python3"
  },
  "language_info": {
   "codemirror_mode": {
    "name": "ipython",
    "version": 3
   },
   "file_extension": ".py",
   "mimetype": "text/x-python",
   "name": "python",
   "nbconvert_exporter": "python",
   "pygments_lexer": "ipython3",
   "version": "3.11.7"
  }
 },
 "nbformat": 4,
 "nbformat_minor": 5
}
