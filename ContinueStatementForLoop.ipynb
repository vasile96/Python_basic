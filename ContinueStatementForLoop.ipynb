{
 "cells": [
  {
   "cell_type": "code",
   "execution_count": 1,
   "id": "82b0f5fd-cfbe-424b-b07e-4dac6e05b41b",
   "metadata": {},
   "outputs": [
    {
     "name": "stdout",
     "output_type": "stream",
     "text": [
      "s\n",
      "t\n",
      "r\n",
      "n\n",
      "g\n",
      "The end\n"
     ]
    }
   ],
   "source": [
    "for letter in \"string\":\n",
    "    \n",
    "    if letter == \"i\":\n",
    "        continue\n",
    "        \n",
    "    print(letter)  \n",
    "    \n",
    "print (\"The end\")"
   ]
  },
  {
   "cell_type": "code",
   "execution_count": 2,
   "id": "f513fb2a-e825-44d1-a7c9-b0391d65799e",
   "metadata": {},
   "outputs": [
    {
     "name": "stdout",
     "output_type": "stream",
     "text": [
      "S\n",
      "t\n",
      "u\n",
      "d\n",
      "n\n",
      "t\n"
     ]
    }
   ],
   "source": [
    "my_string = \"Students\"\n",
    "\n",
    "for letter in my_string:\n",
    "    if (letter == \"e\" or letter == \"s\"):\n",
    "        \n",
    "        continue\n",
    "    else:\n",
    "        print(letter)"
   ]
  },
  {
   "cell_type": "code",
   "execution_count": 3,
   "id": "e5e2a267-0105-4415-ac72-707f40d30187",
   "metadata": {},
   "outputs": [
    {
     "name": "stdout",
     "output_type": "stream",
     "text": [
      "Is 2 is an even number? \n",
      "Yes\n",
      "Is 4 is an even number? \n",
      "Yes\n",
      "Is 6 is an even number? \n",
      "Yes\n",
      "Is 8 is an even number? \n",
      "Yes\n"
     ]
    }
   ],
   "source": [
    "for i in range (1, 10):\n",
    "    \n",
    "    if i % 2 == 0:\n",
    "        print (\"Is %s is an even number? \" % i)\n",
    "\n",
    "    else:    \n",
    "        continue\n",
    "        \n",
    "    print(\"Yes\")    "
   ]
  },
  {
   "cell_type": "code",
   "execution_count": 4,
   "id": "b85832df-bdec-4c72-9696-9492e17bd74c",
   "metadata": {},
   "outputs": [
    {
     "name": "stdout",
     "output_type": "stream",
     "text": [
      "1\n",
      "Found an even number: 2\n",
      "3\n",
      "Found an even number: 4\n",
      "5\n",
      "Found an even number: 6\n",
      "7\n",
      "Found an even number: 8\n",
      "9\n"
     ]
    }
   ],
   "source": [
    "for num in range(1, 10):\n",
    "    \n",
    "    if num % 2 == 0:\n",
    "        print(\"Found an even number:\", num)\n",
    "        \n",
    "        continue\n",
    "    print(num)"
   ]
  },
  {
   "cell_type": "code",
   "execution_count": 5,
   "id": "3a6d761d-b592-427d-bab6-983f50f0fdd7",
   "metadata": {},
   "outputs": [
    {
     "name": "stdout",
     "output_type": "stream",
     "text": [
      "\n",
      "Before the continue statement 1\n",
      "After the continue statement 1\n",
      "\n",
      "Before the continue statement 2\n",
      "After the continue statement 2\n",
      "\n",
      "Before the continue statement 3\n",
      "\n",
      "Before the continue statement 4\n",
      "After the continue statement 4\n",
      "\n",
      "Before the continue statement 5\n",
      "After the continue statement 5\n",
      "\n",
      "Before the continue statement 6\n",
      "\n",
      "Before the continue statement 7\n",
      "After the continue statement 7\n",
      "\n",
      "Before the continue statement 8\n",
      "After the continue statement 8\n",
      "\n",
      "Before the continue statement 9\n",
      "\n",
      "Before the continue statement 10\n",
      "After the continue statement 10\n",
      "\n",
      "Before the continue statement 11\n",
      "After the continue statement 11\n"
     ]
    }
   ],
   "source": [
    "for i in range (1, 12):\n",
    "    \n",
    "    print()\n",
    "    print (\"Before the continue statement\", i)\n",
    "    \n",
    "    if i % 3 == 0:\n",
    "        continue\n",
    "        \n",
    "    print(\"After the continue statement\", i)"
   ]
  },
  {
   "cell_type": "code",
   "execution_count": 6,
   "id": "7b46c856-5468-4a43-b636-fd3d90173dd9",
   "metadata": {},
   "outputs": [
    {
     "name": "stdout",
     "output_type": "stream",
     "text": [
      "Jan month has 31 days\n",
      "Mar month has 31 days\n",
      "Apr month has 30 days\n",
      "May month has 31 days\n",
      "Jun month has 30 days\n",
      "Jul month has 31 days\n",
      "Aug month has 31 days\n",
      "Sep month has 30 days\n",
      "Oct month has 31 days\n",
      "Nov month has 30 days\n",
      "Dec month has 31 days\n"
     ]
    }
   ],
   "source": [
    "num_days = [31, 28, 31, 30, 31, 30, 31, 31, 30, 31, 30, 31] \n",
    "months = [\"Jan\", \"Feb\",\"Mar\", \"Apr\", \"May\", \"Jun\", \"Jul\", \"Aug\", \"Sep\", \"Oct\", \"Nov\", \"Dec\"]\n",
    " \n",
    "new_dict = dict() \n",
    "\n",
    "for i, j in zip(months, num_days):\n",
    "    new_dict.update({i:j})\n",
    "    \n",
    "    if new_dict[i] < 29:  \n",
    "        continue\n",
    "        \n",
    "    else:\n",
    "        print(i, \"month has\", new_dict[i], \"days\")"
   ]
  },
  {
   "cell_type": "code",
   "execution_count": 7,
   "id": "08b04e49-354c-4a5f-b898-fe25f938f1d0",
   "metadata": {},
   "outputs": [
    {
     "name": "stdout",
     "output_type": "stream",
     "text": [
      "Deer\n",
      "Rabbit\n",
      "Dog\n",
      "Cat\n"
     ]
    }
   ],
   "source": [
    "animals = [\"Deer\", \"Rabbit\", \"Lion\", \"Dog\", \"Cat\", \"Elephant\", \"Giraffe\"]\n",
    "\n",
    "for pet in animals:\n",
    "    \n",
    "    if pet == \"Lion\":\n",
    "        \n",
    "        continue\n",
    "    if pet == \"Elephant\":\n",
    "        \n",
    "        break\n",
    "        \n",
    "    print (pet)"
   ]
  },
  {
   "cell_type": "code",
   "execution_count": null,
   "id": "87c8c848-0639-4d73-9b7f-066babd3e909",
   "metadata": {},
   "outputs": [],
   "source": []
  },
  {
   "cell_type": "code",
   "execution_count": null,
   "id": "9947c5cb-484e-489f-a17e-ec594486d5bb",
   "metadata": {},
   "outputs": [],
   "source": []
  },
  {
   "cell_type": "code",
   "execution_count": null,
   "id": "7b2f63c2-60e8-4c1a-8925-e1850c02d6bc",
   "metadata": {},
   "outputs": [],
   "source": []
  },
  {
   "cell_type": "code",
   "execution_count": null,
   "id": "d4eb7a60-9799-4547-9aa1-8489bdb455a0",
   "metadata": {},
   "outputs": [],
   "source": []
  },
  {
   "cell_type": "code",
   "execution_count": null,
   "id": "1029556f-e29e-49e4-843e-ab494861685d",
   "metadata": {},
   "outputs": [],
   "source": []
  },
  {
   "cell_type": "code",
   "execution_count": null,
   "id": "1d85a6e1-aa40-4793-8da8-b08de445711c",
   "metadata": {},
   "outputs": [],
   "source": []
  },
  {
   "cell_type": "code",
   "execution_count": null,
   "id": "0bb10225-8920-4352-b9f3-819fe8dcfd2f",
   "metadata": {},
   "outputs": [],
   "source": []
  }
 ],
 "metadata": {
  "kernelspec": {
   "display_name": "Python 3 (ipykernel)",
   "language": "python",
   "name": "python3"
  },
  "language_info": {
   "codemirror_mode": {
    "name": "ipython",
    "version": 3
   },
   "file_extension": ".py",
   "mimetype": "text/x-python",
   "name": "python",
   "nbconvert_exporter": "python",
   "pygments_lexer": "ipython3",
   "version": "3.11.7"
  }
 },
 "nbformat": 4,
 "nbformat_minor": 5
}
